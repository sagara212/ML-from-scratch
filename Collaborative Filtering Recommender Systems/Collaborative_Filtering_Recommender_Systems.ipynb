{
  "metadata": {
    "kernelspec": {
      "language": "python",
      "display_name": "Python 3",
      "name": "python3"
    },
    "language_info": {
      "pygments_lexer": "ipython3",
      "nbconvert_exporter": "python",
      "version": "3.6.4",
      "file_extension": ".py",
      "codemirror_mode": {
        "name": "ipython",
        "version": 3
      },
      "name": "python",
      "mimetype": "text/x-python"
    },
    "kaggle": {
      "accelerator": "none",
      "dataSources": [],
      "isInternetEnabled": true,
      "language": "python",
      "sourceType": "notebook",
      "isGpuEnabled": false
    },
    "colab": {
      "provenance": [],
      "toc_visible": true
    }
  },
  "nbformat_minor": 0,
  "nbformat": 4,
  "cells": [
    {
      "cell_type": "markdown",
      "source": [
        "##  Packages"
      ],
      "metadata": {
        "id": "R45nqFqkxOw5"
      }
    },
    {
      "cell_type": "code",
      "source": [
        "import pandas as pd\n",
        "import numpy as np\n",
        "import tensorflow as tf\n",
        "from tensorflow import keras"
      ],
      "metadata": {
        "trusted": true,
        "id": "VgXcjHAtxHB9"
      },
      "outputs": [],
      "execution_count": 2
    },
    {
      "cell_type": "markdown",
      "source": [
        "## 1 - Notation"
      ],
      "metadata": {
        "id": "46nYXQCHxHCB"
      }
    },
    {
      "cell_type": "markdown",
      "source": [
        "|General <br />  Notation  | Description| Python (if any) |\n",
        "|:-------------|:------------------------------------------------------------||\n",
        "| $r(i,j)$     | scalar; = 1  if user j rated movie i  = 0  otherwise             ||\n",
        "| $y(i,j)$     | scalar; = rating given by user j on movie  i    (if r(i,j) = 1 is defined) ||\n",
        "|$\\mathbf{w}^{(j)}$ | vector; parameters for user j ||\n",
        "|$b^{(j)}$     |  scalar; parameter for user j ||\n",
        "| $\\mathbf{x}^{(i)}$ |   vector; feature ratings for movie i        ||     \n",
        "| $n_u$        | number of users |num_users|\n",
        "| $n_m$        | number of movies | num_movies |\n",
        "| $n$          | number of features | num_features                    |\n",
        "| $\\mathbf{X}$ |  matrix of vectors $\\mathbf{x}^{(i)}$         | X |\n",
        "| $\\mathbf{W}$ |  matrix of vectors $\\mathbf{w}^{(j)}$         | W |\n",
        "| $\\mathbf{b}$ |  vector of bias parameters $b^{(j)}$ | b |\n",
        "| $\\mathbf{R}$ | matrix of elements $r(i,j)$                    | R |\n",
        "\n"
      ],
      "metadata": {
        "id": "HP4mPw9txHCB"
      }
    },
    {
      "cell_type": "markdown",
      "source": [
        "\n",
        "## 2 - Movie ratings dataset\n",
        "The data set is derived from the [MovieLens \"ml-latest-small\"](https://grouplens.org/datasets/movielens/latest/) dataset.   \n",
        "[F. Maxwell Harper and Joseph A. Konstan. 2015. The MovieLens Datasets: History and Context. ACM Transactions on Interactive Intelligent Systems (TiiS) 5, 4: 19:1–19:19. <https://doi.org/10.1145/2827872>]\n",
        "\n",
        "The original dataset has  9000 movies rated by 600 users. The dataset has been reduced in size to focus on movies from the years since 2000. This dataset consists of ratings on a scale of 0.5 to 5 in 0.5 step increments. The reduced dataset has $n_u = 443$ users, and $n_m= 4778$ movies.\n",
        "\n",
        "Below, you will load the movie dataset into the variables $Y$ and $R$.\n",
        "\n",
        "The matrix $Y$ (a  $n_m \\times n_u$ matrix) stores the ratings $y^{(i,j)}$. The matrix $R$ is an binary-valued indicator matrix, where $R(i,j) = 1$ if user $j$ gave a rating to movie $i$, and $R(i,j)=0$ otherwise.\n",
        "\n",
        "Throughout this part of the exercise, you will also be working with the\n",
        "matrices, $\\mathbf{X}$, $\\mathbf{W}$ and $\\mathbf{b}$:\n",
        "\n",
        "$$\\mathbf{X} =\n",
        "\\begin{bmatrix}\n",
        "--- (\\mathbf{x}^{(0)})^T --- \\\\\n",
        "--- (\\mathbf{x}^{(1)})^T --- \\\\\n",
        "\\vdots \\\\\n",
        "--- (\\mathbf{x}^{(n_m-1)})^T --- \\\\\n",
        "\\end{bmatrix} , \\quad\n",
        "\\mathbf{W} =\n",
        "\\begin{bmatrix}\n",
        "--- (\\mathbf{w}^{(0)})^T --- \\\\\n",
        "--- (\\mathbf{w}^{(1)})^T --- \\\\\n",
        "\\vdots \\\\\n",
        "--- (\\mathbf{w}^{(n_u-1)})^T --- \\\\\n",
        "\\end{bmatrix},\\quad\n",
        "\\mathbf{ b} =\n",
        "\\begin{bmatrix}\n",
        " b^{(0)}  \\\\\n",
        " b^{(1)} \\\\\n",
        "\\vdots \\\\\n",
        "b^{(n_u-1)} \\\\\n",
        "\\end{bmatrix}\\quad\n",
        "$$\n",
        "\n",
        "The $i$-th row of $\\mathbf{X}$ corresponds to the\n",
        "feature vector $x^{(i)}$ for the $i$-th movie, and the $j$-th row of\n",
        "$\\mathbf{W}$ corresponds to one parameter vector $\\mathbf{w}^{(j)}$, for the\n",
        "$j$-th user. Both $x^{(i)}$ and $\\mathbf{w}^{(j)}$ are $n$-dimensional\n",
        "vectors. For the purposes of this exercise, you will use $n=10$, and\n",
        "therefore, $\\mathbf{x}^{(i)}$ and $\\mathbf{w}^{(j)}$ have 10 elements.\n",
        "Correspondingly, $\\mathbf{X}$ is a\n",
        "$n_m \\times 10$ matrix and $\\mathbf{W}$ is a $n_u \\times 10$ matrix.\n",
        "\n",
        "We will start by loading the movie ratings dataset to understand the structure of the data.\n",
        "We will load $Y$ and $R$ with the movie dataset.  \n",
        "We'll also load $\\mathbf{X}$, $\\mathbf{W}$, and $\\mathbf{b}$ with pre-computed values. These values will be learned later in the lab, but we'll use pre-computed values to develop the cost model."
      ],
      "metadata": {
        "id": "eqjoVMw2yVYE"
      }
    },
    {
      "cell_type": "code",
      "source": [
        "# Load file CSV\n",
        "movie_list = pd.read_csv('/content/small_movie_list.csv')\n",
        "R = pd.read_csv('/content/small_movies_R.csv', header=None)\n",
        "W = pd.read_csv('/content/small_movies_W.csv', header=None)\n",
        "X = pd.read_csv('/content/small_movies_X.csv', header=None)\n",
        "Y = pd.read_csv('/content/small_movies_Y.csv', header=None)\n",
        "b = pd.read_csv('/content/small_movies_b.csv', header=None)\n",
        "\n",
        "# dimensi value\n",
        "num_movies, num_features = X.shape\n",
        "num_users = W.shape[0]\n",
        "\n",
        "# Convert to NumPy arrays\n",
        "X = X.values\n",
        "W = W.values\n",
        "b = b.values\n",
        "Y = Y.values\n",
        "R = R.values\n",
        "\n",
        "# Print info\n",
        "print(\"Y\", Y.shape, \"R\", R.shape)\n",
        "print(\"X\", X.shape)\n",
        "print(\"W\", W.shape)\n",
        "print(\"b\", b.shape)\n",
        "print(\"num_features\", num_features)\n",
        "print(\"num_movies\", num_movies)\n",
        "print(\"num_users\", num_users)\n"
      ],
      "metadata": {
        "colab": {
          "base_uri": "https://localhost:8080/"
        },
        "id": "aajuCwSKynfI",
        "outputId": "0bb94b33-c23e-45f4-ae22-e69b69643d07"
      },
      "execution_count": 8,
      "outputs": [
        {
          "output_type": "stream",
          "name": "stdout",
          "text": [
            "Y (4778, 443) R (4778, 443)\n",
            "X (4778, 10)\n",
            "W (443, 10)\n",
            "b (1, 443)\n",
            "num_features 10\n",
            "num_movies 4778\n",
            "num_users 443\n"
          ]
        }
      ]
    },
    {
      "cell_type": "code",
      "source": [
        "#  From the matrix, we can compute statistics like average rating.\n",
        "tsmean =  np.mean(Y[0, R[0, :].astype(bool)])\n",
        "print(f\"Average rating for movie 1 : {tsmean:0.3f} / 5\" )"
      ],
      "metadata": {
        "colab": {
          "base_uri": "https://localhost:8080/"
        },
        "id": "vOgUYCWg5Gmb",
        "outputId": "31042b2e-aa30-496a-e7a6-cb608b573896"
      },
      "execution_count": 9,
      "outputs": [
        {
          "output_type": "stream",
          "name": "stdout",
          "text": [
            "Average rating for movie 1 : 3.400 / 5\n"
          ]
        }
      ]
    },
    {
      "cell_type": "markdown",
      "source": [
        "### Collaborative filtering cost function"
      ],
      "metadata": {
        "id": "TsnXcy7P3cqJ"
      }
    },
    {
      "cell_type": "code",
      "source": [
        "def cofi_cost_func(X, W, b, Y, R, lambda_):\n",
        "\n",
        "    nm,nu = Y.shape\n",
        "    J = 0\n",
        "\n",
        "    for j in range(nu):\n",
        "        w = W[j,:]\n",
        "        b_j = b[0,j]\n",
        "        for i in range(nm):\n",
        "            x = X[i,:]\n",
        "            y = Y[i,j]\n",
        "            r = R[i,j]\n",
        "            J += np.square(r * (np.dot(w,x) + b_j - y ) )\n",
        "    J = J/2\n",
        "    J += (lambda_/2) * (np.sum(np.square(W)) + np.sum(np.square(X)))\n",
        "\n",
        "    return J"
      ],
      "metadata": {
        "id": "xVtelDh43hJU"
      },
      "execution_count": 10,
      "outputs": []
    },
    {
      "cell_type": "code",
      "source": [
        "# Reduce the dataset size for faster computation\n",
        "num_users_r = 4\n",
        "num_movies_r = 5\n",
        "num_features_r = 3\n",
        "\n",
        "X_r = X[:num_movies_r, :num_features_r]\n",
        "W_r = W[:num_users_r, :num_features_r]\n",
        "b_r = b[0, :num_users_r].reshape(1, -1)\n",
        "Y_r = Y[:num_movies_r, :num_users_r]\n",
        "R_r = R[:num_movies_r, :num_users_r]\n",
        "\n",
        "# Compute the cost\n",
        "J = cofi_cost_func(X_r, W_r, b_r, Y_r, R_r, 0)\n",
        "print(f\"Cost: {J:0.2f}\")\n"
      ],
      "metadata": {
        "colab": {
          "base_uri": "https://localhost:8080/"
        },
        "id": "J6ixnrpZ4Wwb",
        "outputId": "91a8294e-b86d-458c-db11-6a2023914ef1"
      },
      "execution_count": 11,
      "outputs": [
        {
          "output_type": "stream",
          "name": "stdout",
          "text": [
            "Cost: 13.67\n"
          ]
        }
      ]
    },
    {
      "cell_type": "code",
      "source": [
        "# Evaluate cost function with regularization\n",
        "J = cofi_cost_func(X_r, W_r, b_r, Y_r, R_r, 1.5);\n",
        "print(f\"Cost (with regularization): {J:0.2f}\")"
      ],
      "metadata": {
        "colab": {
          "base_uri": "https://localhost:8080/"
        },
        "id": "PNeFWq-q5Qec",
        "outputId": "e9f8f6b7-d97d-4069-fd9a-22aa3aa0de78"
      },
      "execution_count": 12,
      "outputs": [
        {
          "output_type": "stream",
          "name": "stdout",
          "text": [
            "Cost (with regularization): 28.09\n"
          ]
        }
      ]
    },
    {
      "cell_type": "markdown",
      "source": [
        "**Vectorized Implementation**\n",
        "\n",
        "It is important to create a vectorized implementation to compute $J$, since it will later be called many times during optimization."
      ],
      "metadata": {
        "id": "eFTK1sLV5WUH"
      }
    },
    {
      "cell_type": "code",
      "source": [
        "def cofi_cost_func_v(X, W, b, Y, R, lambda_):\n",
        "\n",
        "    j = (tf.linalg.matmul(X, tf.transpose(W)) + b - Y)*R\n",
        "    J = 0.5 * tf.reduce_sum(j**2) + (lambda_/2) * (tf.reduce_sum(X**2) + tf.reduce_sum(W**2))\n",
        "    return J"
      ],
      "metadata": {
        "id": "eEBct4pV5cIW"
      },
      "execution_count": 13,
      "outputs": []
    },
    {
      "cell_type": "code",
      "source": [
        "# Evaluate cost function\n",
        "J = cofi_cost_func_v(X_r, W_r, b_r, Y_r, R_r, 0);\n",
        "print(f\"Cost: {J:0.2f}\")\n",
        "\n",
        "# Evaluate cost function with regularization\n",
        "J = cofi_cost_func_v(X_r, W_r, b_r, Y_r, R_r, 1.5);\n",
        "print(f\"Cost (with regularization): {J:0.2f}\")"
      ],
      "metadata": {
        "colab": {
          "base_uri": "https://localhost:8080/"
        },
        "id": "5SnBXJ7e5f7-",
        "outputId": "90be2619-83d6-4832-c7b4-d09bafa49f07"
      },
      "execution_count": 14,
      "outputs": [
        {
          "output_type": "stream",
          "name": "stdout",
          "text": [
            "Cost: 13.67\n",
            "Cost (with regularization): 28.09\n"
          ]
        }
      ]
    },
    {
      "cell_type": "markdown",
      "source": [
        "\n",
        "## 3 - Learning movie recommendations\n",
        "------------------------------\n",
        "\n",
        "After have finished implementing the collaborative filtering cost\n",
        "function. start training your algorithm to make\n",
        "movie recommendations.\n",
        "\n",
        "In the cell below, you can enter your own movie choices. The algorithm will then make recommendations. We have filled out some values according to our preferences.\n"
      ],
      "metadata": {
        "id": "mXmFXGGc7_8W"
      }
    },
    {
      "cell_type": "code",
      "source": [
        "my_ratings = np.zeros(num_movies)          #  Initialize ratings\n",
        "\n",
        "my_ratings[929]  = 5   # Lord of the Rings: The Return of the King, The\n",
        "my_ratings[246]  = 5   # Shrek (2001)\n",
        "my_ratings[2716] = 3   # Inception\n",
        "my_ratings[1150] = 5   # Incredibles, The (2004)\n",
        "my_ratings[382]  = 2   # Amelie (Fabuleux destin d'Amélie Poulain, Le)\n",
        "my_ratings[366]  = 5   # Harry Potter and the Sorcerer's Stone (a.k.a. Harry Potter and the Philosopher's Stone) (2001)\n",
        "my_ratings[622]  = 5   # Harry Potter and the Chamber of Secrets (2002)\n",
        "my_ratings[988]  = 3   # Eternal Sunshine of the Spotless Mind (2004)\n",
        "my_ratings[2925] = 1   # Louis Theroux: Law & Disorder (2008)\n",
        "my_ratings[2937] = 1   # Nothing to Declare (Rien à déclarer)\n",
        "my_ratings[793]  = 5   # Pirates of the Caribbean: The Curse of the Black Pearl (2003)\n",
        "my_rated = [i for i in range(len(my_ratings)) if my_ratings[i] > 0]\n",
        "\n",
        "print('\\nNew user ratings:\\n')\n",
        "for i in range(len(my_ratings)):\n",
        "    if my_ratings[i] > 0 :\n",
        "        print(f'Rated {my_ratings[i]} for  {movie_list.loc[i,\"title\"]}');"
      ],
      "metadata": {
        "colab": {
          "base_uri": "https://localhost:8080/"
        },
        "id": "sR7NhpMa8ccX",
        "outputId": "1b1b5f54-e822-4eaa-8efa-4d5977b6d9ef"
      },
      "execution_count": 16,
      "outputs": [
        {
          "output_type": "stream",
          "name": "stdout",
          "text": [
            "\n",
            "New user ratings:\n",
            "\n",
            "Rated 5.0 for  Shrek (2001)\n",
            "Rated 5.0 for  Harry Potter and the Sorcerer's Stone (a.k.a. Harry Potter and the Philosopher's Stone) (2001)\n",
            "Rated 2.0 for  Amelie (Fabuleux destin d'Amélie Poulain, Le) (2001)\n",
            "Rated 5.0 for  Harry Potter and the Chamber of Secrets (2002)\n",
            "Rated 5.0 for  Pirates of the Caribbean: The Curse of the Black Pearl (2003)\n",
            "Rated 5.0 for  Lord of the Rings: The Return of the King, The (2003)\n",
            "Rated 3.0 for  Eternal Sunshine of the Spotless Mind (2004)\n",
            "Rated 5.0 for  Incredibles, The (2004)\n",
            "Rated 3.0 for  Inception (2010)\n",
            "Rated 1.0 for  Louis Theroux: Law & Disorder (2008)\n",
            "Rated 1.0 for  Nothing to Declare (Rien à déclarer) (2010)\n"
          ]
        }
      ]
    },
    {
      "cell_type": "markdown",
      "source": [
        "Now, let's add these reviews to $Y$ and $R$ and normalize the ratings."
      ],
      "metadata": {
        "id": "oJR5tbvM9Q0q"
      }
    },
    {
      "cell_type": "code",
      "source": [
        "def normalizeRatings(Y, R):\n",
        "\n",
        "    m, n = Y.shape\n",
        "    Ymean = np.zeros((m, 1))\n",
        "    Ynorm = np.zeros_like(Y)\n",
        "\n",
        "    for i in range(m):\n",
        "        idx = R[i, :] == 1\n",
        "        if np.any(idx):\n",
        "            Ymean[i] = np.mean(Y[i, idx])\n",
        "            Ynorm[i, idx] = Y[i, idx] - Ymean[i]\n",
        "\n",
        "    return Ynorm, Ymean"
      ],
      "metadata": {
        "id": "NttG1fIb91ii"
      },
      "execution_count": 18,
      "outputs": []
    },
    {
      "cell_type": "code",
      "source": [
        "# Add new user ratings to Y\n",
        "Y = np.c_[my_ratings, Y]\n",
        "\n",
        "# Add new user indicator matrix to R\n",
        "R = np.c_[(my_ratings != 0).astype(int), R]\n",
        "\n",
        "# Normalize the Dataset\n",
        "Ynorm, Ymean = normalizeRatings(Y, R)"
      ],
      "metadata": {
        "id": "TX-KWQLT9Rhe"
      },
      "execution_count": 19,
      "outputs": []
    },
    {
      "cell_type": "markdown",
      "source": [
        "Let's prepare to train the model. Initialize the parameters and select the Adam optimizer."
      ],
      "metadata": {
        "id": "PR6DTQdu974l"
      }
    },
    {
      "cell_type": "code",
      "source": [
        "#  Useful Values\n",
        "num_movies, num_users = Y.shape\n",
        "num_features = 100\n",
        "\n",
        "# Set Initial Parameters (W, X), use tf.Variable to track these variables\n",
        "tf.random.set_seed(1234) # for consistent results\n",
        "W = tf.Variable(tf.random.normal((num_users,  num_features),dtype=tf.float64),  name='W')\n",
        "X = tf.Variable(tf.random.normal((num_movies, num_features),dtype=tf.float64),  name='X')\n",
        "b = tf.Variable(tf.random.normal((1,          num_users),   dtype=tf.float64),  name='b')\n",
        "\n",
        "# Instantiate an optimizer.\n",
        "optimizer = keras.optimizers.Adam(learning_rate=1e-1)"
      ],
      "metadata": {
        "id": "zg3zRUvc98pw"
      },
      "execution_count": 20,
      "outputs": []
    },
    {
      "cell_type": "markdown",
      "source": [
        "The operations involved in learning $w$, $b$, and $x$ simultaneously do not fall into the typical 'layers' offered in the TensorFlow neural network package.  Consequently, the flow used in Course 2: Model, Compile(), Fit(), Predict(), are not directly applicable. Instead, we can use a custom training loop.\n",
        "    \n",
        "TensorFlow has the marvelous capability of calculating the derivatives. This is shown below. Within the `tf.GradientTape()` section, operations on Tensorflow Variables are tracked. When `tape.gradient()` is later called, it will return the gradient of the loss relative to the tracked variables. The gradients can then be applied to the parameters using an optimizer.\n",
        "    \n"
      ],
      "metadata": {
        "id": "dI0vXgQO-Wyc"
      }
    },
    {
      "cell_type": "code",
      "source": [
        "iterations = 200\n",
        "lambda_ = 1\n",
        "for iter in range(iterations):\n",
        "    # Use TensorFlow’s GradientTape\n",
        "    # to record the operations used to compute the cost\n",
        "    with tf.GradientTape() as tape:\n",
        "\n",
        "        # Compute the cost (forward pass included in cost)\n",
        "        cost_value = cofi_cost_func_v(X, W, b, Ynorm, R, lambda_)\n",
        "\n",
        "    # Use the gradient tape to automatically retrieve\n",
        "    # the gradients of the trainable variables with respect to the loss\n",
        "    grads = tape.gradient( cost_value, [X,W,b] )\n",
        "\n",
        "    # Run one step of gradient descent by updating\n",
        "    # the value of the variables to minimize the loss.\n",
        "    optimizer.apply_gradients( zip(grads, [X,W,b]) )\n",
        "\n",
        "    # Log periodically.\n",
        "    if iter % 20 == 0:\n",
        "        print(f\"Training loss at iteration {iter}: {cost_value:0.1f}\")"
      ],
      "metadata": {
        "colab": {
          "base_uri": "https://localhost:8080/"
        },
        "id": "-gKok0S3-kBX",
        "outputId": "216c8292-0147-4ea7-a6a0-bd3f27cf1602"
      },
      "execution_count": 21,
      "outputs": [
        {
          "output_type": "stream",
          "name": "stdout",
          "text": [
            "Training loss at iteration 0: 2294325.5\n",
            "Training loss at iteration 20: 134527.2\n",
            "Training loss at iteration 40: 51139.6\n",
            "Training loss at iteration 60: 24211.9\n",
            "Training loss at iteration 80: 13401.3\n",
            "Training loss at iteration 100: 8350.6\n",
            "Training loss at iteration 120: 5720.8\n",
            "Training loss at iteration 140: 4251.8\n",
            "Training loss at iteration 160: 3390.9\n",
            "Training loss at iteration 180: 2867.5\n"
          ]
        }
      ]
    },
    {
      "cell_type": "markdown",
      "source": [
        "\n",
        "## 4 - Recommendations\n",
        "Below, we compute the ratings for all the movies and users and display the movies that are recommended. These are based on the movies and ratings entered as `my_ratings[]` above. To predict the rating of movie $i$ for user $j$, you compute $\\mathbf{w}^{(j)} \\cdot \\mathbf{x}^{(i)} + b^{(j)}$. This can be computed for all ratings using matrix multiplication."
      ],
      "metadata": {
        "id": "hwaLUW4Y_IIm"
      }
    },
    {
      "cell_type": "code",
      "source": [
        "# Make predictions using the trained weights and biases\n",
        "p = np.matmul(X.numpy(), np.transpose(W.numpy())) + b.numpy()\n",
        "\n",
        "# Restore the mean ratings that were previously normalized\n",
        "pm = p + Ymean\n",
        "\n",
        "# Get predictions for the new user (first column)\n",
        "my_predictions = pm[:, 0]\n",
        "\n",
        "# Sort indices based on highest predicted ratings\n",
        "ix = tf.argsort(my_predictions, direction='DESCENDING')\n",
        "\n",
        "# Display top movie recommendations for movies not yet rated by the user\n",
        "print('Top movie recommendations:\\n')\n",
        "for i in range(17):\n",
        "    j = int(ix[i].numpy())  # Convert tensor to int\n",
        "    if j not in my_rated:\n",
        "        movie_title = movie_list.iloc[j]['title']\n",
        "        print(f'Predicting rating {my_predictions[j]:0.2f} for movie {movie_title}')\n",
        "\n",
        "# Display comparison between original and predicted ratings\n",
        "print('\\n\\nOriginal vs Predicted ratings:\\n')\n",
        "for i in range(len(my_ratings)):\n",
        "    if my_ratings[i] > 0:\n",
        "        movie_title = movie_list.iloc[i]['title']\n",
        "        print(f'Original {my_ratings[i]}, Predicted {my_predictions[i]:0.2f} for {movie_title}')\n"
      ],
      "metadata": {
        "colab": {
          "base_uri": "https://localhost:8080/"
        },
        "id": "LUe-2323_EAu",
        "outputId": "a07a47fe-6927-4ca9-9560-040af00cb989"
      },
      "execution_count": 30,
      "outputs": [
        {
          "output_type": "stream",
          "name": "stdout",
          "text": [
            "Top movie recommendations:\n",
            "\n",
            "Predicting rating 4.79 for movie One I Love, The (2014)\n",
            "Predicting rating 4.79 for movie Laggies (2014)\n",
            "Predicting rating 4.79 for movie Delirium (2014)\n",
            "Predicting rating 4.79 for movie Dylan Moran: Monster (2004)\n",
            "Predicting rating 4.77 for movie Martin Lawrence Live: Runteldat (2002)\n",
            "Predicting rating 4.77 for movie Colourful (Karafuru) (2010)\n",
            "Predicting rating 4.75 for movie Bossa Nova (2000)\n",
            "Predicting rating 4.75 for movie Particle Fever (2013)\n",
            "Predicting rating 4.75 for movie Eichmann (2007)\n",
            "Predicting rating 4.75 for movie Into the Abyss (2011)\n",
            "Predicting rating 4.75 for movie Battle Royale 2: Requiem (Batoru rowaiaru II: Chinkonka) (2003)\n",
            "\n",
            "\n",
            "Original vs Predicted ratings:\n",
            "\n",
            "Original 5.0, Predicted 4.90 for Shrek (2001)\n",
            "Original 5.0, Predicted 4.89 for Harry Potter and the Sorcerer's Stone (a.k.a. Harry Potter and the Philosopher's Stone) (2001)\n",
            "Original 2.0, Predicted 2.13 for Amelie (Fabuleux destin d'Amélie Poulain, Le) (2001)\n",
            "Original 5.0, Predicted 4.91 for Harry Potter and the Chamber of Secrets (2002)\n",
            "Original 5.0, Predicted 4.92 for Pirates of the Caribbean: The Curse of the Black Pearl (2003)\n",
            "Original 5.0, Predicted 4.89 for Lord of the Rings: The Return of the King, The (2003)\n",
            "Original 3.0, Predicted 3.07 for Eternal Sunshine of the Spotless Mind (2004)\n",
            "Original 5.0, Predicted 4.86 for Incredibles, The (2004)\n",
            "Original 3.0, Predicted 3.04 for Inception (2010)\n",
            "Original 1.0, Predicted 1.24 for Louis Theroux: Law & Disorder (2008)\n",
            "Original 1.0, Predicted 1.16 for Nothing to Declare (Rien à déclarer) (2010)\n"
          ]
        }
      ]
    },
    {
      "cell_type": "code",
      "source": [
        "filter=(movie_list[\"number of ratings\"] > 20)\n",
        "movie_list[\"pred\"] = my_predictions\n",
        "movie_list = movie_list.reindex(columns=[\"pred\", \"mean rating\", \"number of ratings\", \"title\"])\n",
        "movie_list.loc[ix[:300]].loc[filter].sort_values(\"mean rating\", ascending=False)"
      ],
      "metadata": {
        "colab": {
          "base_uri": "https://localhost:8080/",
          "height": 457
        },
        "id": "G1vwo1kYGp5w",
        "outputId": "f8e5b972-2029-4f51-d6d5-94f6ff285179"
      },
      "execution_count": 31,
      "outputs": [
        {
          "output_type": "execute_result",
          "data": {
            "text/plain": [
              "          pred  mean rating  number of ratings  \\\n",
              "929   4.887883     4.118919                185   \n",
              "393   4.234694     4.106061                198   \n",
              "653   4.484067     4.021277                188   \n",
              "2804  4.414015     3.989362                 47   \n",
              "1142  4.311762     3.986842                 38   \n",
              "773   4.271665     3.960993                141   \n",
              "246   4.897796     3.867647                170   \n",
              "2403  4.557087     3.864407                 59   \n",
              "1150  4.855341     3.836000                125   \n",
              "793   4.919625     3.778523                149   \n",
              "366   4.886708     3.761682                107   \n",
              "515   4.255624     3.637500                120   \n",
              "622   4.905040     3.598039                102   \n",
              "\n",
              "                                                  title  \n",
              "929   Lord of the Rings: The Return of the King, The...  \n",
              "393   Lord of the Rings: The Fellowship of the Ring,...  \n",
              "653       Lord of the Rings: The Two Towers, The (2002)  \n",
              "2804  Harry Potter and the Deathly Hallows: Part 1 (...  \n",
              "1142                               The Machinist (2004)  \n",
              "773                                 Finding Nemo (2003)  \n",
              "246                                        Shrek (2001)  \n",
              "2403                                   Star Trek (2009)  \n",
              "1150                            Incredibles, The (2004)  \n",
              "793   Pirates of the Caribbean: The Curse of the Bla...  \n",
              "366   Harry Potter and the Sorcerer's Stone (a.k.a. ...  \n",
              "515                              Minority Report (2002)  \n",
              "622      Harry Potter and the Chamber of Secrets (2002)  "
            ],
            "text/html": [
              "\n",
              "  <div id=\"df-9887bb4d-3fbe-4d76-9feb-ec80c9f9a946\" class=\"colab-df-container\">\n",
              "    <div>\n",
              "<style scoped>\n",
              "    .dataframe tbody tr th:only-of-type {\n",
              "        vertical-align: middle;\n",
              "    }\n",
              "\n",
              "    .dataframe tbody tr th {\n",
              "        vertical-align: top;\n",
              "    }\n",
              "\n",
              "    .dataframe thead th {\n",
              "        text-align: right;\n",
              "    }\n",
              "</style>\n",
              "<table border=\"1\" class=\"dataframe\">\n",
              "  <thead>\n",
              "    <tr style=\"text-align: right;\">\n",
              "      <th></th>\n",
              "      <th>pred</th>\n",
              "      <th>mean rating</th>\n",
              "      <th>number of ratings</th>\n",
              "      <th>title</th>\n",
              "    </tr>\n",
              "  </thead>\n",
              "  <tbody>\n",
              "    <tr>\n",
              "      <th>929</th>\n",
              "      <td>4.887883</td>\n",
              "      <td>4.118919</td>\n",
              "      <td>185</td>\n",
              "      <td>Lord of the Rings: The Return of the King, The...</td>\n",
              "    </tr>\n",
              "    <tr>\n",
              "      <th>393</th>\n",
              "      <td>4.234694</td>\n",
              "      <td>4.106061</td>\n",
              "      <td>198</td>\n",
              "      <td>Lord of the Rings: The Fellowship of the Ring,...</td>\n",
              "    </tr>\n",
              "    <tr>\n",
              "      <th>653</th>\n",
              "      <td>4.484067</td>\n",
              "      <td>4.021277</td>\n",
              "      <td>188</td>\n",
              "      <td>Lord of the Rings: The Two Towers, The (2002)</td>\n",
              "    </tr>\n",
              "    <tr>\n",
              "      <th>2804</th>\n",
              "      <td>4.414015</td>\n",
              "      <td>3.989362</td>\n",
              "      <td>47</td>\n",
              "      <td>Harry Potter and the Deathly Hallows: Part 1 (...</td>\n",
              "    </tr>\n",
              "    <tr>\n",
              "      <th>1142</th>\n",
              "      <td>4.311762</td>\n",
              "      <td>3.986842</td>\n",
              "      <td>38</td>\n",
              "      <td>The Machinist (2004)</td>\n",
              "    </tr>\n",
              "    <tr>\n",
              "      <th>773</th>\n",
              "      <td>4.271665</td>\n",
              "      <td>3.960993</td>\n",
              "      <td>141</td>\n",
              "      <td>Finding Nemo (2003)</td>\n",
              "    </tr>\n",
              "    <tr>\n",
              "      <th>246</th>\n",
              "      <td>4.897796</td>\n",
              "      <td>3.867647</td>\n",
              "      <td>170</td>\n",
              "      <td>Shrek (2001)</td>\n",
              "    </tr>\n",
              "    <tr>\n",
              "      <th>2403</th>\n",
              "      <td>4.557087</td>\n",
              "      <td>3.864407</td>\n",
              "      <td>59</td>\n",
              "      <td>Star Trek (2009)</td>\n",
              "    </tr>\n",
              "    <tr>\n",
              "      <th>1150</th>\n",
              "      <td>4.855341</td>\n",
              "      <td>3.836000</td>\n",
              "      <td>125</td>\n",
              "      <td>Incredibles, The (2004)</td>\n",
              "    </tr>\n",
              "    <tr>\n",
              "      <th>793</th>\n",
              "      <td>4.919625</td>\n",
              "      <td>3.778523</td>\n",
              "      <td>149</td>\n",
              "      <td>Pirates of the Caribbean: The Curse of the Bla...</td>\n",
              "    </tr>\n",
              "    <tr>\n",
              "      <th>366</th>\n",
              "      <td>4.886708</td>\n",
              "      <td>3.761682</td>\n",
              "      <td>107</td>\n",
              "      <td>Harry Potter and the Sorcerer's Stone (a.k.a. ...</td>\n",
              "    </tr>\n",
              "    <tr>\n",
              "      <th>515</th>\n",
              "      <td>4.255624</td>\n",
              "      <td>3.637500</td>\n",
              "      <td>120</td>\n",
              "      <td>Minority Report (2002)</td>\n",
              "    </tr>\n",
              "    <tr>\n",
              "      <th>622</th>\n",
              "      <td>4.905040</td>\n",
              "      <td>3.598039</td>\n",
              "      <td>102</td>\n",
              "      <td>Harry Potter and the Chamber of Secrets (2002)</td>\n",
              "    </tr>\n",
              "  </tbody>\n",
              "</table>\n",
              "</div>\n",
              "    <div class=\"colab-df-buttons\">\n",
              "\n",
              "  <div class=\"colab-df-container\">\n",
              "    <button class=\"colab-df-convert\" onclick=\"convertToInteractive('df-9887bb4d-3fbe-4d76-9feb-ec80c9f9a946')\"\n",
              "            title=\"Convert this dataframe to an interactive table.\"\n",
              "            style=\"display:none;\">\n",
              "\n",
              "  <svg xmlns=\"http://www.w3.org/2000/svg\" height=\"24px\" viewBox=\"0 -960 960 960\">\n",
              "    <path d=\"M120-120v-720h720v720H120Zm60-500h600v-160H180v160Zm220 220h160v-160H400v160Zm0 220h160v-160H400v160ZM180-400h160v-160H180v160Zm440 0h160v-160H620v160ZM180-180h160v-160H180v160Zm440 0h160v-160H620v160Z\"/>\n",
              "  </svg>\n",
              "    </button>\n",
              "\n",
              "  <style>\n",
              "    .colab-df-container {\n",
              "      display:flex;\n",
              "      gap: 12px;\n",
              "    }\n",
              "\n",
              "    .colab-df-convert {\n",
              "      background-color: #E8F0FE;\n",
              "      border: none;\n",
              "      border-radius: 50%;\n",
              "      cursor: pointer;\n",
              "      display: none;\n",
              "      fill: #1967D2;\n",
              "      height: 32px;\n",
              "      padding: 0 0 0 0;\n",
              "      width: 32px;\n",
              "    }\n",
              "\n",
              "    .colab-df-convert:hover {\n",
              "      background-color: #E2EBFA;\n",
              "      box-shadow: 0px 1px 2px rgba(60, 64, 67, 0.3), 0px 1px 3px 1px rgba(60, 64, 67, 0.15);\n",
              "      fill: #174EA6;\n",
              "    }\n",
              "\n",
              "    .colab-df-buttons div {\n",
              "      margin-bottom: 4px;\n",
              "    }\n",
              "\n",
              "    [theme=dark] .colab-df-convert {\n",
              "      background-color: #3B4455;\n",
              "      fill: #D2E3FC;\n",
              "    }\n",
              "\n",
              "    [theme=dark] .colab-df-convert:hover {\n",
              "      background-color: #434B5C;\n",
              "      box-shadow: 0px 1px 3px 1px rgba(0, 0, 0, 0.15);\n",
              "      filter: drop-shadow(0px 1px 2px rgba(0, 0, 0, 0.3));\n",
              "      fill: #FFFFFF;\n",
              "    }\n",
              "  </style>\n",
              "\n",
              "    <script>\n",
              "      const buttonEl =\n",
              "        document.querySelector('#df-9887bb4d-3fbe-4d76-9feb-ec80c9f9a946 button.colab-df-convert');\n",
              "      buttonEl.style.display =\n",
              "        google.colab.kernel.accessAllowed ? 'block' : 'none';\n",
              "\n",
              "      async function convertToInteractive(key) {\n",
              "        const element = document.querySelector('#df-9887bb4d-3fbe-4d76-9feb-ec80c9f9a946');\n",
              "        const dataTable =\n",
              "          await google.colab.kernel.invokeFunction('convertToInteractive',\n",
              "                                                    [key], {});\n",
              "        if (!dataTable) return;\n",
              "\n",
              "        const docLinkHtml = 'Like what you see? Visit the ' +\n",
              "          '<a target=\"_blank\" href=https://colab.research.google.com/notebooks/data_table.ipynb>data table notebook</a>'\n",
              "          + ' to learn more about interactive tables.';\n",
              "        element.innerHTML = '';\n",
              "        dataTable['output_type'] = 'display_data';\n",
              "        await google.colab.output.renderOutput(dataTable, element);\n",
              "        const docLink = document.createElement('div');\n",
              "        docLink.innerHTML = docLinkHtml;\n",
              "        element.appendChild(docLink);\n",
              "      }\n",
              "    </script>\n",
              "  </div>\n",
              "\n",
              "\n",
              "    <div id=\"df-cc93d13f-2c5c-4fef-8521-668ccbaa51d0\">\n",
              "      <button class=\"colab-df-quickchart\" onclick=\"quickchart('df-cc93d13f-2c5c-4fef-8521-668ccbaa51d0')\"\n",
              "                title=\"Suggest charts\"\n",
              "                style=\"display:none;\">\n",
              "\n",
              "<svg xmlns=\"http://www.w3.org/2000/svg\" height=\"24px\"viewBox=\"0 0 24 24\"\n",
              "     width=\"24px\">\n",
              "    <g>\n",
              "        <path d=\"M19 3H5c-1.1 0-2 .9-2 2v14c0 1.1.9 2 2 2h14c1.1 0 2-.9 2-2V5c0-1.1-.9-2-2-2zM9 17H7v-7h2v7zm4 0h-2V7h2v10zm4 0h-2v-4h2v4z\"/>\n",
              "    </g>\n",
              "</svg>\n",
              "      </button>\n",
              "\n",
              "<style>\n",
              "  .colab-df-quickchart {\n",
              "      --bg-color: #E8F0FE;\n",
              "      --fill-color: #1967D2;\n",
              "      --hover-bg-color: #E2EBFA;\n",
              "      --hover-fill-color: #174EA6;\n",
              "      --disabled-fill-color: #AAA;\n",
              "      --disabled-bg-color: #DDD;\n",
              "  }\n",
              "\n",
              "  [theme=dark] .colab-df-quickchart {\n",
              "      --bg-color: #3B4455;\n",
              "      --fill-color: #D2E3FC;\n",
              "      --hover-bg-color: #434B5C;\n",
              "      --hover-fill-color: #FFFFFF;\n",
              "      --disabled-bg-color: #3B4455;\n",
              "      --disabled-fill-color: #666;\n",
              "  }\n",
              "\n",
              "  .colab-df-quickchart {\n",
              "    background-color: var(--bg-color);\n",
              "    border: none;\n",
              "    border-radius: 50%;\n",
              "    cursor: pointer;\n",
              "    display: none;\n",
              "    fill: var(--fill-color);\n",
              "    height: 32px;\n",
              "    padding: 0;\n",
              "    width: 32px;\n",
              "  }\n",
              "\n",
              "  .colab-df-quickchart:hover {\n",
              "    background-color: var(--hover-bg-color);\n",
              "    box-shadow: 0 1px 2px rgba(60, 64, 67, 0.3), 0 1px 3px 1px rgba(60, 64, 67, 0.15);\n",
              "    fill: var(--button-hover-fill-color);\n",
              "  }\n",
              "\n",
              "  .colab-df-quickchart-complete:disabled,\n",
              "  .colab-df-quickchart-complete:disabled:hover {\n",
              "    background-color: var(--disabled-bg-color);\n",
              "    fill: var(--disabled-fill-color);\n",
              "    box-shadow: none;\n",
              "  }\n",
              "\n",
              "  .colab-df-spinner {\n",
              "    border: 2px solid var(--fill-color);\n",
              "    border-color: transparent;\n",
              "    border-bottom-color: var(--fill-color);\n",
              "    animation:\n",
              "      spin 1s steps(1) infinite;\n",
              "  }\n",
              "\n",
              "  @keyframes spin {\n",
              "    0% {\n",
              "      border-color: transparent;\n",
              "      border-bottom-color: var(--fill-color);\n",
              "      border-left-color: var(--fill-color);\n",
              "    }\n",
              "    20% {\n",
              "      border-color: transparent;\n",
              "      border-left-color: var(--fill-color);\n",
              "      border-top-color: var(--fill-color);\n",
              "    }\n",
              "    30% {\n",
              "      border-color: transparent;\n",
              "      border-left-color: var(--fill-color);\n",
              "      border-top-color: var(--fill-color);\n",
              "      border-right-color: var(--fill-color);\n",
              "    }\n",
              "    40% {\n",
              "      border-color: transparent;\n",
              "      border-right-color: var(--fill-color);\n",
              "      border-top-color: var(--fill-color);\n",
              "    }\n",
              "    60% {\n",
              "      border-color: transparent;\n",
              "      border-right-color: var(--fill-color);\n",
              "    }\n",
              "    80% {\n",
              "      border-color: transparent;\n",
              "      border-right-color: var(--fill-color);\n",
              "      border-bottom-color: var(--fill-color);\n",
              "    }\n",
              "    90% {\n",
              "      border-color: transparent;\n",
              "      border-bottom-color: var(--fill-color);\n",
              "    }\n",
              "  }\n",
              "</style>\n",
              "\n",
              "      <script>\n",
              "        async function quickchart(key) {\n",
              "          const quickchartButtonEl =\n",
              "            document.querySelector('#' + key + ' button');\n",
              "          quickchartButtonEl.disabled = true;  // To prevent multiple clicks.\n",
              "          quickchartButtonEl.classList.add('colab-df-spinner');\n",
              "          try {\n",
              "            const charts = await google.colab.kernel.invokeFunction(\n",
              "                'suggestCharts', [key], {});\n",
              "          } catch (error) {\n",
              "            console.error('Error during call to suggestCharts:', error);\n",
              "          }\n",
              "          quickchartButtonEl.classList.remove('colab-df-spinner');\n",
              "          quickchartButtonEl.classList.add('colab-df-quickchart-complete');\n",
              "        }\n",
              "        (() => {\n",
              "          let quickchartButtonEl =\n",
              "            document.querySelector('#df-cc93d13f-2c5c-4fef-8521-668ccbaa51d0 button');\n",
              "          quickchartButtonEl.style.display =\n",
              "            google.colab.kernel.accessAllowed ? 'block' : 'none';\n",
              "        })();\n",
              "      </script>\n",
              "    </div>\n",
              "\n",
              "    </div>\n",
              "  </div>\n"
            ],
            "application/vnd.google.colaboratory.intrinsic+json": {
              "type": "dataframe",
              "summary": "{\n  \"name\": \"movie_list\",\n  \"rows\": 13,\n  \"fields\": [\n    {\n      \"column\": \"pred\",\n      \"properties\": {\n        \"dtype\": \"number\",\n        \"std\": 0.2896063984608378,\n        \"min\": 4.234693739815772,\n        \"max\": 4.9196253043846925,\n        \"num_unique_values\": 13,\n        \"samples\": [\n          4.255624144855902,\n          4.9196253043846925,\n          4.887883412794022\n        ],\n        \"semantic_type\": \"\",\n        \"description\": \"\"\n      }\n    },\n    {\n      \"column\": \"mean rating\",\n      \"properties\": {\n        \"dtype\": \"number\",\n        \"std\": 0.1639183333675504,\n        \"min\": 3.5980392156862746,\n        \"max\": 4.118918918918919,\n        \"num_unique_values\": 13,\n        \"samples\": [\n          3.6375,\n          3.778523489932886,\n          4.118918918918919\n        ],\n        \"semantic_type\": \"\",\n        \"description\": \"\"\n      }\n    },\n    {\n      \"column\": \"number of ratings\",\n      \"properties\": {\n        \"dtype\": \"number\",\n        \"std\": 53,\n        \"min\": 38,\n        \"max\": 198,\n        \"num_unique_values\": 13,\n        \"samples\": [\n          120,\n          149,\n          185\n        ],\n        \"semantic_type\": \"\",\n        \"description\": \"\"\n      }\n    },\n    {\n      \"column\": \"title\",\n      \"properties\": {\n        \"dtype\": \"string\",\n        \"num_unique_values\": 13,\n        \"samples\": [\n          \"Minority Report (2002)\",\n          \"Pirates of the Caribbean: The Curse of the Black Pearl (2003)\",\n          \"Lord of the Rings: The Return of the King, The (2003)\"\n        ],\n        \"semantic_type\": \"\",\n        \"description\": \"\"\n      }\n    }\n  ]\n}"
            }
          },
          "metadata": {},
          "execution_count": 31
        }
      ]
    }
  ]
}