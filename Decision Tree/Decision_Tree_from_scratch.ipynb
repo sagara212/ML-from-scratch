{
  "nbformat": 4,
  "nbformat_minor": 0,
  "metadata": {
    "colab": {
      "provenance": []
    },
    "kernelspec": {
      "name": "python3",
      "display_name": "Python 3"
    },
    "language_info": {
      "name": "python"
    }
  },
  "cells": [
    {
      "cell_type": "markdown",
      "source": [
        "# Definition Decision Tree\n",
        "In this notebook you will visualize how a decision tree is splitted using information gain.\n",
        "\n",
        " in a decision tree, we decide if a node will be split or not by looking at the information gain that split would give us.\n",
        "\n",
        " Where\n",
        "\n",
        "$$\\text{Information Gain} = H(p_1^\\text{node})- \\left(w^{\\text{left}}H\\left(p_1^\\text{left}\\right) + w^{\\text{right}}H\\left(p_1^\\text{right}\\right)\\right),$$\n",
        "\n",
        "and $H$ is the entropy, defined as\n",
        "\n",
        "$$H(p_1) = -p_1 \\text{log}_2(p_1) - (1- p_1) \\text{log}_2(1- p_1)$$\n",
        "\n",
        "\n",
        "that log here is defined to be in base 2.  $H(p)$ behaves while $p$ varies.\n",
        "\n",
        "\n",
        "Note that the H attains its higher value when $p = 0.5$. This means that the probability of event is $0.5$. And its minimum value is attained in $p = 0$ and $p = 1$, i.e., the probability of the event happening is totally predictable. Thus, the entropy shows the degree of predictability of an event."
      ],
      "metadata": {
        "id": "4yM0152E7CtF"
      }
    },
    {
      "cell_type": "code",
      "source": [
        "#import library\n",
        "import pandas as pd\n",
        "import numpy as np\n",
        "import matplotlib.pyplot as plt"
      ],
      "metadata": {
        "id": "XzWDUUMw7CPO"
      },
      "execution_count": 14,
      "outputs": []
    },
    {
      "cell_type": "markdown",
      "source": [
        "| Ear Shape | Face Shape | Whiskers | Cat |\n",
        "|:---------:|:-----------:|:--------:|:---:|\n",
        "|   Pointy  |   Round     | Present  |  1  |\n",
        "|   Floppy  | Not Round   | Present  |  1  |\n",
        "|   Floppy  |   Round     | Absent   |  0  |\n",
        "|   Pointy  | Not Round   | Present  |  0  |\n",
        "|   Pointy  |   Round     | Present  |  1  |\n",
        "|   Pointy  |   Round     | Absent   |  1  |\n",
        "|   Floppy  | Not Round   | Absent   |  0  |\n",
        "|   Pointy  |   Round     | Absent   |  1  |\n",
        "|   Floppy  |   Round     | Absent   |  0  |\n",
        "|   Floppy  |   Round     | Absent   |  0  |\n",
        "\n",
        "\n",
        "\n",
        "We will use **one-hot encoding** to encode the categorical features. They will be as follows:\n",
        "\n",
        "- Ear Shape: Pointy = 1, Floppy = 0\n",
        "- Face Shape: Round = 1, Not Round = 0\n",
        "- Whiskers: Present = 1, Absent = 0\n",
        "\n",
        "Therefore, we have two sets:\n",
        "\n",
        "- `X_train`: for each example, contains 3 features:\n",
        "            - Ear Shape (1 if pointy, 0 otherwise)\n",
        "            - Face Shape (1 if round, 0 otherwise)\n",
        "            - Whiskers (1 if present, 0 otherwise)\n",
        "            \n",
        "- `y_train`: whether the animal is a cat\n",
        "            - 1 if the animal is a cat\n",
        "            - 0 otherwise"
      ],
      "metadata": {
        "id": "Q6QNHgOu8ffn"
      }
    },
    {
      "cell_type": "code",
      "execution_count": 15,
      "metadata": {
        "id": "U2pvnz3U2jLn"
      },
      "outputs": [],
      "source": [
        "# Data\n",
        "X_train = np.array([[1, 1, 1],\n",
        "[0, 0, 1],\n",
        " [0, 1, 0],\n",
        " [1, 0, 1],\n",
        " [1, 1, 1],\n",
        " [1, 1, 0],\n",
        " [0, 0, 0],\n",
        " [1, 1, 0],\n",
        " [0, 1, 0],\n",
        " [0, 1, 0]])\n",
        "\n",
        "y_train = np.array([1, 1, 0, 0, 1, 1, 0, 1, 0, 0])"
      ]
    },
    {
      "cell_type": "code",
      "source": [
        "#For instance, the first example\n",
        "X_train[0]"
      ],
      "metadata": {
        "colab": {
          "base_uri": "https://localhost:8080/"
        },
        "id": "XiiAW2B8-IDP",
        "outputId": "9c71f3c9-c775-4005-f750-74ec9bb84da0"
      },
      "execution_count": 16,
      "outputs": [
        {
          "output_type": "execute_result",
          "data": {
            "text/plain": [
              "array([1, 1, 1])"
            ]
          },
          "metadata": {},
          "execution_count": 16
        }
      ]
    },
    {
      "cell_type": "markdown",
      "source": [
        "This means that the first example has a pointy ear shape, round face shape and it has whiskers."
      ],
      "metadata": {
        "id": "DZ0-VrZF-Luy"
      }
    },
    {
      "cell_type": "markdown",
      "source": [
        "On each node, we compute the information gain for each feature, then split the node on the feature with the higher information gain, by comparing the entropy of the node with the weighted entropy in the two splitted nodes."
      ],
      "metadata": {
        "id": "FZEb3fhC-XsG"
      }
    },
    {
      "cell_type": "markdown",
      "source": [
        "So, the root node has every animal in our dataset. Remember that $p_1^{node}$ is the proportion of positive class (cats) in the root node. So\n",
        "\n",
        "$$p_1^{node} = \\frac{5}{10} = 0.5$$\n",
        "\n",
        "Now let's write a function to compute the entropy."
      ],
      "metadata": {
        "id": "9fFtYlln-bNk"
      }
    },
    {
      "cell_type": "markdown",
      "source": [
        "## function entropy"
      ],
      "metadata": {
        "id": "VFpiWyp4C61C"
      }
    },
    {
      "cell_type": "code",
      "source": [
        "def entropy(p):\n",
        "  if p == 0 or p == 1:\n",
        "    return 0\n",
        "  else:\n",
        "    return -p * np.log2(p) - (1-p)*np.log2(1-p)\n",
        "print(entropy(0.5))"
      ],
      "metadata": {
        "colab": {
          "base_uri": "https://localhost:8080/"
        },
        "id": "DFkIcZJs-idT",
        "outputId": "f9662b07-f29c-40e6-e84b-e4c80fa760e4"
      },
      "execution_count": 17,
      "outputs": [
        {
          "output_type": "stream",
          "name": "stdout",
          "text": [
            "1.0\n"
          ]
        }
      ]
    },
    {
      "cell_type": "markdown",
      "source": [
        "To illustrate, let's compute the information gain if we split the node for each of the features. To do this, let's write some functions."
      ],
      "metadata": {
        "id": "WunbB1fW_NlW"
      }
    },
    {
      "cell_type": "markdown",
      "source": [
        "## function split index"
      ],
      "metadata": {
        "id": "EQLlme3vC-67"
      }
    },
    {
      "cell_type": "code",
      "source": [
        "def split_indices(X, index_feature):\n",
        "    \"\"\"Given a dataset and an index feature, return two lists for the two split nodes.\n",
        "    The left node has the animals that have that feature = 1,\n",
        "    and the right node those that have the feature = 0.\n",
        "\n",
        "    index_feature = 0 => ear shape\n",
        "    index_feature = 1 => face shape\n",
        "    index_feature = 2 => whiskers\n",
        "    \"\"\"\n",
        "    left_indices = []\n",
        "    right_indices = []\n",
        "    for i, x in enumerate(X):\n",
        "        if x[index_feature] == 1:\n",
        "            left_indices.append(i)\n",
        "        else:\n",
        "            right_indices.append(i)\n",
        "    return left_indices, right_indices\n"
      ],
      "metadata": {
        "id": "3xe63Jgj_KDq"
      },
      "execution_count": 22,
      "outputs": []
    },
    {
      "cell_type": "markdown",
      "source": [
        "So, if we choose Ear Shape to split, then we must have in the left node (check the table above) the indices:\n",
        "\n",
        "$$0 \\quad 3 \\quad 4 \\quad 5 \\quad 7$$\n",
        "\n",
        "and the right indices, the remaining ones."
      ],
      "metadata": {
        "id": "sO5e-pnXBQMD"
      }
    },
    {
      "cell_type": "code",
      "source": [
        "split_indices(X_train, 0)"
      ],
      "metadata": {
        "colab": {
          "base_uri": "https://localhost:8080/"
        },
        "id": "x8jGa7E1AV6C",
        "outputId": "a24abae3-225e-4908-890e-04dd2dc5948b"
      },
      "execution_count": 23,
      "outputs": [
        {
          "output_type": "execute_result",
          "data": {
            "text/plain": [
              "([0, 3, 4, 5, 7], [1, 2, 6, 8, 9])"
            ]
          },
          "metadata": {},
          "execution_count": 23
        }
      ]
    },
    {
      "cell_type": "markdown",
      "source": [
        "Now we need another function to compute the weighted entropy in the splitted nodes. As you've seen in the video lecture, we must find:\n",
        "\n",
        "- $w^{\\text{left}}$ and $w^{\\text{right}}$, the proportion of animals in **each node**.\n",
        "- $p^{\\text{left}}$ and $p^{\\text{right}}$, the proportion of cats in **each split**.\n",
        "\n",
        "Note the difference between these two definitions!! To illustrate, if we split the root node on the feature of index 0 (Ear Shape), then in the left node, the one that has the animals 0, 3, 4, 5 and 7, we have:\n",
        "\n",
        "$$w^{\\text{left}}= \\frac{5}{10} = 0.5 \\text{ and } p^{\\text{left}} = \\frac{4}{5}$$\n",
        "$$w^{\\text{right}}= \\frac{5}{10} = 0.5 \\text{ and } p^{\\text{right}} = \\frac{1}{5}$$"
      ],
      "metadata": {
        "id": "Z8W1Y8FYBKUD"
      }
    },
    {
      "cell_type": "markdown",
      "source": [
        "## function weighted entropy"
      ],
      "metadata": {
        "id": "wo5M3Pf_DF03"
      }
    },
    {
      "cell_type": "code",
      "source": [
        "def weighted_entropy(X, y, left_indices, right_indices):\n",
        "  \"\"\"\n",
        "  This function takes the splitted dataset, the indices we chose to split and returns the weighted entropy.\n",
        "  \"\"\"\n",
        "  w_left = len(left_indices)/len(X)\n",
        "  w_right = len(right_indices)/len(X)\n",
        "  p_left = sum(y[left_indices])/len(left_indices)\n",
        "  p_right = sum(y[right_indices])/len(left_indices)\n",
        "\n",
        "  weighted_entropy = w_left * entropy(p_left) + w_right * entropy(p_right)\n",
        "  return weighted_entropy"
      ],
      "metadata": {
        "id": "rSD2cCclBL6A"
      },
      "execution_count": 24,
      "outputs": []
    },
    {
      "cell_type": "code",
      "source": [
        "left_indices, right_indices = split_indices(X_train, 0)\n",
        "weighted_entropy(X_train, y_train, left_indices, right_indices)"
      ],
      "metadata": {
        "colab": {
          "base_uri": "https://localhost:8080/"
        },
        "id": "BRYp_SHyC2Jg",
        "outputId": "8ef24409-2acf-41fd-8fd9-d1fc98ac7c05"
      },
      "execution_count": 27,
      "outputs": [
        {
          "output_type": "execute_result",
          "data": {
            "text/plain": [
              "np.float64(0.7219280948873623)"
            ]
          },
          "metadata": {},
          "execution_count": 27
        }
      ]
    },
    {
      "cell_type": "markdown",
      "source": [
        "So, the weighted entropy in the 2 split nodes is 0.72. To compute the **Information Gain** we must subtract it from the entropy in the node we chose to split (in this case, the root node)."
      ],
      "metadata": {
        "id": "HKMcI53XD2H8"
      }
    },
    {
      "cell_type": "markdown",
      "source": [
        "## function information gain"
      ],
      "metadata": {
        "id": "sF-1660_D4gr"
      }
    },
    {
      "cell_type": "code",
      "source": [
        "def information_gain(X,y, left_indices, right_indices):\n",
        "  \"\"\"\n",
        "  Here, X has the elements in the node and y is theirs respectives classes\n",
        "  \"\"\"\n",
        "\n",
        "  p_node = sum(y)/len(y)\n",
        "  h_node = entropy(p_node)\n",
        "  w_entropy = weighted_entropy(X, y, left_indices, right_indices)\n",
        "  return h_node - w_entropy"
      ],
      "metadata": {
        "id": "YNwyKAeiDyty"
      },
      "execution_count": 30,
      "outputs": []
    },
    {
      "cell_type": "code",
      "source": [
        "information_gain(X_train, y_train, left_indices, right_indices)"
      ],
      "metadata": {
        "colab": {
          "base_uri": "https://localhost:8080/"
        },
        "id": "zaDvLxq6Ep7o",
        "outputId": "6cd7755e-ebe1-47a4-a098-bf9cc429ca66"
      },
      "execution_count": 31,
      "outputs": [
        {
          "output_type": "execute_result",
          "data": {
            "text/plain": [
              "np.float64(0.2780719051126377)"
            ]
          },
          "metadata": {},
          "execution_count": 31
        }
      ]
    },
    {
      "cell_type": "markdown",
      "source": [
        "Now, let's compute the information gain if we split the root node for each feature:"
      ],
      "metadata": {
        "id": "prMxfpDBE3Fh"
      }
    },
    {
      "cell_type": "code",
      "source": [
        "for i, feature_name in enumerate(['Ear Shape', 'Face Shape', 'Whiskers']):\n",
        "  left_indices, right_indices = split_indices(X_train, i)\n",
        "  i_gain = information_gain(X_train, y_train, left_indices, right_indices)\n",
        "  print(f\"Feature: {feature_name}, information gain if we split the root node using this feature: {i_gain:.2f}\")"
      ],
      "metadata": {
        "colab": {
          "base_uri": "https://localhost:8080/"
        },
        "id": "xjmhux5ZE32o",
        "outputId": "75b50445-868d-4cc7-c185-1667328e84c2"
      },
      "execution_count": 32,
      "outputs": [
        {
          "output_type": "stream",
          "name": "stdout",
          "text": [
            "Feature: Ear Shape, information gain if we split the root node using this feature: 0.28\n",
            "Feature: Face Shape, information gain if we split the root node using this feature: 0.13\n",
            "Feature: Whiskers, information gain if we split the root node using this feature: 0.08\n"
          ]
        }
      ]
    },
    {
      "cell_type": "markdown",
      "source": [
        "So, the best feature to split is indeed the Ear Shape."
      ],
      "metadata": {
        "id": "sIEkmJm7JI6x"
      }
    }
  ]
}